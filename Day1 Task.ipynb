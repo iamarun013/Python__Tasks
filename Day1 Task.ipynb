{
 "cells": [
  {
   "cell_type": "markdown",
   "id": "8b52941a",
   "metadata": {},
   "source": [
    "# Day-1 Task\n",
    "\n",
    "Install Python on your Local Operating System:\n",
    "\n",
    "Watch the video tutorial on [Python](https://youtu.be/M5ILgNI0iXw)\n",
    "\n",
    "\n",
    "## Learn about Vim Editor:\n",
    "\n",
    "Watch the video tutorial on using the [Vim Editor](https://youtu.be/SBOFn*zVuzOE)\n",
    "\n",
    "## List Some Mega Projects Hosted in Python:\n",
    "\n",
    "Database Projects: Management Systems (Library, Hotel, Hospital, School)\n",
    "Machine Learning Projects: Classification\n",
    "Artificial Intelligence Projects: Chatbots, face detection and recognition, speech recognition, Security\n",
    "Data Science Projects: Global Terrorism Analysis, Call Data Record Analysis\n",
    "\n",
    "## List Python Libraries Used in Different IT Domains \n",
    "\n",
    "*Pandas, numpy, matplotlib, tkinter, sklearn, tensorflow*"
   ]
  },
  {
   "cell_type": "code",
   "execution_count": 5,
   "id": "e87ccdac",
   "metadata": {},
   "outputs": [
    {
     "name": "stdout",
     "output_type": "stream",
     "text": [
      "Hello world\n",
      "sum is:  50\n"
     ]
    }
   ],
   "source": [
    "#Create a Program and execute a script in Python  \n",
    "\n",
    "print(\"Hello world\") \n",
    "\n",
    "a = 45 \n",
    "\n",
    "b = 5 \n",
    "\n",
    "c = a+b \n",
    "\n",
    "print(\"sum is: \", c)"
   ]
  },
  {
   "cell_type": "code",
   "execution_count": null,
   "id": "3109222c",
   "metadata": {},
   "outputs": [],
   "source": []
  }
 ],
 "metadata": {
  "kernelspec": {
   "display_name": "Python 3 (ipykernel)",
   "language": "python",
   "name": "python3"
  },
  "language_info": {
   "codemirror_mode": {
    "name": "ipython",
    "version": 3
   },
   "file_extension": ".py",
   "mimetype": "text/x-python",
   "name": "python",
   "nbconvert_exporter": "python",
   "pygments_lexer": "ipython3",
   "version": "3.9.12"
  }
 },
 "nbformat": 4,
 "nbformat_minor": 5
}
