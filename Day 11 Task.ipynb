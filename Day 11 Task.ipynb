{
 "cells": [
  {
   "cell_type": "markdown",
   "id": "b37c3e41",
   "metadata": {},
   "source": [
    "# Day 11\n",
    "## Q1)"
   ]
  },
  {
   "cell_type": "code",
   "execution_count": 6,
   "id": "3b974a46",
   "metadata": {},
   "outputs": [
    {
     "name": "stdout",
     "output_type": "stream",
     "text": [
      "                    \n",
      "         *          \n",
      "        *  *        \n",
      "      *  *  *       \n",
      "     *  *  *  *     \n",
      "   *  *  *  *  *    \n"
     ]
    }
   ],
   "source": [
    "b=\" * \"\n",
    "for i in range(0,6):\n",
    "    print((b*i).center(20))\n"
   ]
  },
  {
   "cell_type": "markdown",
   "id": "21a2367c",
   "metadata": {},
   "source": [
    "## Q2)"
   ]
  },
  {
   "cell_type": "code",
   "execution_count": 11,
   "id": "2d2779c6",
   "metadata": {},
   "outputs": [
    {
     "name": "stdout",
     "output_type": "stream",
     "text": [
      "          1  \n",
      "        1    2  \n",
      "      1    2    3  \n",
      "    1    2    3    4  \n",
      "  1    2    3    4    5  \n"
     ]
    }
   ],
   "source": [
    "row  = 5\n",
    "for i in range(1, row+1):\n",
    "    for j in range(row-i):\n",
    "        print(\"  \", end=\"\")\n",
    "    for k in range(1, i+1):\n",
    "        print(str(k).center(5),end=\"\")\n",
    "    print()  "
   ]
  },
  {
   "cell_type": "markdown",
   "id": "9c741cba",
   "metadata": {},
   "source": [
    "## Q3)"
   ]
  },
  {
   "cell_type": "code",
   "execution_count": 15,
   "id": "f54d5937",
   "metadata": {},
   "outputs": [
    {
     "name": "stdout",
     "output_type": "stream",
     "text": [
      "    *\n",
      "   **\n",
      "  ***\n",
      " ****\n",
      "*****\n"
     ]
    }
   ],
   "source": [
    "b=\"*\"\n",
    "for i in range(1,6):\n",
    "    print((b*i).rjust(5))\n"
   ]
  },
  {
   "cell_type": "code",
   "execution_count": 16,
   "id": "2ff35c49",
   "metadata": {},
   "outputs": [
    {
     "name": "stdout",
     "output_type": "stream",
     "text": [
      "    1\n",
      "   123\n",
      "  12345\n",
      " 1234567\n",
      "123456789\n"
     ]
    }
   ],
   "source": [
    "row  = 5\n",
    "for i in range(1, row+1):\n",
    "    for j in range(row-i):\n",
    "        print(\" \", end=\"\")\n",
    "    for k in range(1, 2*i):\n",
    "        print(k, end=\"\")\n",
    "    print()  "
   ]
  },
  {
   "cell_type": "code",
   "execution_count": 26,
   "id": "c4d0b65c",
   "metadata": {},
   "outputs": [
    {
     "name": "stdout",
     "output_type": "stream",
     "text": [
      "Enter the number of rows:5\n",
      "1\n",
      "12\n",
      "123\n",
      "1234\n",
      "12345\n"
     ]
    }
   ],
   "source": [
    "n=int(input(\"Enter the number of rows:\"))\n",
    "for i in range(1,n+1):\n",
    "    for j in range(1, i+1):\n",
    "        print(j, end=\"\")\n",
    "    print()"
   ]
  },
  {
   "cell_type": "code",
   "execution_count": 38,
   "id": "119e715a",
   "metadata": {},
   "outputs": [
    {
     "name": "stdout",
     "output_type": "stream",
     "text": [
      "     *\n",
      "    ***\n",
      "   *****\n",
      "  *******\n",
      " *********\n",
      "***********\n"
     ]
    }
   ],
   "source": [
    "n = 5\n",
    "print(\" \"*4,\"*\")\n",
    "for i in range(1, n+1):\n",
    "    for j in range(n - i):\n",
    "        print(' ', end='')\n",
    "    for k in range(2 * i +1):    \n",
    "        print('*', end=\"\")\n",
    "    print()    "
   ]
  },
  {
   "cell_type": "code",
   "execution_count": 48,
   "id": "3d4cc368",
   "metadata": {},
   "outputs": [
    {
     "name": "stdout",
     "output_type": "stream",
     "text": [
      "    1\n",
      "   222\n",
      "  33333\n",
      " 4444444\n",
      "555555555\n"
     ]
    }
   ],
   "source": [
    "for i in range(1, 6):\n",
    "    for j in range(5, i, -1):\n",
    "        print(\" \", end=\"\")\n",
    "    for k in range(1,2*i):\n",
    "        print(i,end=\"\")\n",
    "    print(\"\")"
   ]
  },
  {
   "cell_type": "code",
   "execution_count": 49,
   "id": "546b3c9b",
   "metadata": {},
   "outputs": [
    {
     "name": "stdout",
     "output_type": "stream",
     "text": [
      "    *\n",
      "   ***\n",
      "  *****\n",
      " *******\n",
      "*********\n",
      " *******\n",
      "  *****\n",
      "   ***\n",
      "    *\n"
     ]
    }
   ],
   "source": [
    "row = 5\n",
    "for i in range(1, row+1):\n",
    "    for j in range(1, row-i+1):\n",
    "        print(\" \", end=\"\")\n",
    "    for j in range(1, 2*i):\n",
    "        print(\"*\", end=\"\")\n",
    "    print() \n",
    "    \n",
    "for i in range(row-1,0, -1):\n",
    "    for j in range(1,row-i+1):\n",
    "        print(\" \", end=\"\")\n",
    "    for j in range(1, 2*i):\n",
    "        print(\"*\", end=\"\")\n",
    "    print()"
   ]
  },
  {
   "cell_type": "code",
   "execution_count": 51,
   "id": "f128044b",
   "metadata": {},
   "outputs": [
    {
     "name": "stdout",
     "output_type": "stream",
     "text": [
      "1 2 3 4 5 \n",
      "1 2 3 4 \n",
      "1 2 3 \n",
      "1 2 \n",
      "1 \n"
     ]
    }
   ],
   "source": [
    "rows=5\n",
    "for i in range(rows, 0, -1):\n",
    "    for j in range(1, i + 1):\n",
    "        print(j, end=\" \")\n",
    "    print()\n",
    "\n",
    "    "
   ]
  },
  {
   "cell_type": "code",
   "execution_count": null,
   "id": "6c97ea48",
   "metadata": {},
   "outputs": [],
   "source": []
  }
 ],
 "metadata": {
  "kernelspec": {
   "display_name": "Python 3 (ipykernel)",
   "language": "python",
   "name": "python3"
  },
  "language_info": {
   "codemirror_mode": {
    "name": "ipython",
    "version": 3
   },
   "file_extension": ".py",
   "mimetype": "text/x-python",
   "name": "python",
   "nbconvert_exporter": "python",
   "pygments_lexer": "ipython3",
   "version": "3.9.12"
  }
 },
 "nbformat": 4,
 "nbformat_minor": 5
}
