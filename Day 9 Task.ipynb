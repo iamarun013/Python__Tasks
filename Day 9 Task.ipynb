{
 "cells": [
  {
   "cell_type": "markdown",
   "id": "d74208ab",
   "metadata": {},
   "source": [
    "# DAY 9\n",
    "## Q1) Write a Python program to check whether a number is negative, positive or zero."
   ]
  },
  {
   "cell_type": "code",
   "execution_count": 1,
   "id": "ddf42622",
   "metadata": {},
   "outputs": [
    {
     "name": "stdout",
     "output_type": "stream",
     "text": [
      "Enter a number: 3\n",
      "Number is positive\n"
     ]
    }
   ],
   "source": [
    "n=float(input(\"Enter a number: \"))\n",
    "if n > 0.0 :\n",
    "    print(\"Number is positive\")\n",
    "elif n < 0.0 :\n",
    "    print(\"Number is negative\")\n",
    "if n == 0.0:\n",
    "    print(\"Zero\")"
   ]
  },
  {
   "cell_type": "markdown",
   "id": "f2044aa3",
   "metadata": {},
   "source": [
    "## Q2) Write a Python program to check whether a number is divisible by 5 and 11 or not."
   ]
  },
  {
   "cell_type": "code",
   "execution_count": 2,
   "id": "9ff4b534",
   "metadata": {},
   "outputs": [
    {
     "name": "stdout",
     "output_type": "stream",
     "text": [
      "Ener a number: 110\n",
      "Number is divisible\n"
     ]
    }
   ],
   "source": [
    "n=int(input(\"Ener a number: \"))\n",
    "if n % 5 ==0 and n % 11 ==0 :\n",
    "    print(\"Number is divisible\")\n",
    "else:\n",
    "    print(\"Not divisible\")"
   ]
  },
  {
   "cell_type": "markdown",
   "id": "6061316f",
   "metadata": {},
   "source": [
    "## Q3) Write a Python program to check whether a year is leap year or not."
   ]
  },
  {
   "cell_type": "code",
   "execution_count": 3,
   "id": "2ddebb6f",
   "metadata": {},
   "outputs": [
    {
     "name": "stdout",
     "output_type": "stream",
     "text": [
      "Enter the year: 2020\n",
      "Leap year\n"
     ]
    }
   ],
   "source": [
    "year = int(input(\"Enter the year: \"))\n",
    "\n",
    "# Counting the number of digits in the input year\n",
    "no = year\n",
    "c = 0\n",
    "while no > 0:\n",
    "    no = no // 10\n",
    "    c = c + 1\n",
    "\n",
    "if c == 4:\n",
    "    if year % 4 == 0:\n",
    "        # Checking if the input year is a leap year\n",
    "        if year % 100 == 0:\n",
    "            if year % 400 == 0:\n",
    "                print(\"Leap year\")\n",
    "            else:\n",
    "                print(\"Not a leap year\")\n",
    "        else:\n",
    "            print(\"Leap year\")\n",
    "    else:\n",
    "        print(\"Not a leap year\")\n",
    "else:\n",
    "    print(\"Invalid year format\")"
   ]
  },
  {
   "cell_type": "markdown",
   "id": "c6310ea3",
   "metadata": {},
   "source": [
    "## Q4) Write a Python program to check whether a character is alphabet or not."
   ]
  },
  {
   "cell_type": "code",
   "execution_count": 4,
   "id": "87cfa113",
   "metadata": {},
   "outputs": [
    {
     "name": "stdout",
     "output_type": "stream",
     "text": [
      "Enter a character: o\n",
      "Yes it's an alphabet\n"
     ]
    }
   ],
   "source": [
    "n=input(\"Enter a character: \")\n",
    "if 65<=ord(n)<=90 or 97<=ord(n)<=122:\n",
    "    print(\"Yes it's an alphabet\")\n",
    "else:\n",
    "    print(\"Not alphabet\")"
   ]
  },
  {
   "cell_type": "markdown",
   "id": "b025d54a",
   "metadata": {},
   "source": [
    "## Q5) Write a Python program to input any alphabet and check whether it is vowel or consonant."
   ]
  },
  {
   "cell_type": "code",
   "execution_count": 5,
   "id": "26ee672a",
   "metadata": {},
   "outputs": [
    {
     "name": "stdout",
     "output_type": "stream",
     "text": [
      "Enter any alphabere\n",
      "Vowel\n"
     ]
    }
   ],
   "source": [
    "def vowel_or_not(character):\n",
    "    vowels=['A', 'E', 'I', 'O', 'U']\n",
    "    if character.upper() in vowels:\n",
    "        return 1\n",
    "    else :\n",
    "        return 0\n",
    "character=input(\"Enter any alphaber\")\n",
    "if len(character)==1 and character.isalpha():\n",
    "    if vowel_or_not(character)==1:\n",
    "        print(\"Vowel\")\n",
    "    else:\n",
    "        print(\"Not Vowel\")\n",
    "else:\n",
    "    print(\"Enter a valid single length character \")"
   ]
  },
  {
   "cell_type": "markdown",
   "id": "f49c946e",
   "metadata": {},
   "source": [
    "## Q6) Write a Python program to input any character and check whether it is alphabet, digit or special character."
   ]
  },
  {
   "cell_type": "code",
   "execution_count": 6,
   "id": "60ba10c0",
   "metadata": {},
   "outputs": [
    {
     "name": "stdout",
     "output_type": "stream",
     "text": [
      "Enter a character: 9\n",
      "The character is Digit.\n"
     ]
    }
   ],
   "source": [
    "def check_character_type(character):\n",
    "    if character.isalpha():\n",
    "        return \"Alphabet\"\n",
    "    elif character.isdigit():\n",
    "        return \"Digit\"\n",
    "    else:\n",
    "        return \"Special Character\"\n",
    "\n",
    "char = input(\"Enter a character: \")\n",
    "if len(char) == 1:\n",
    "    result = check_character_type(char)\n",
    "    print(f\"The character is {result}.\")\n",
    "else:\n",
    "    print(\"Please enter a single character.\")"
   ]
  },
  {
   "cell_type": "markdown",
   "id": "8db46b79",
   "metadata": {},
   "source": [
    "## Q7) Write a Python program to check whether a character is uppercase or lowercase alphabet."
   ]
  },
  {
   "cell_type": "code",
   "execution_count": 7,
   "id": "ccdc3819",
   "metadata": {},
   "outputs": [
    {
     "name": "stdout",
     "output_type": "stream",
     "text": [
      "Enter a character: 6\n",
      "Invalid input\n"
     ]
    }
   ],
   "source": [
    "character=input(\"Enter a character: \")\n",
    "if len(character)==1 and  character.isalpha() :\n",
    "    if character.isupper():\n",
    "        print(\"Character is in uppercase\")\n",
    "    else:\n",
    "        print(\"Character is in lowercase\")\n",
    "else:\n",
    "    print(\"Invalid input\")"
   ]
  },
  {
   "cell_type": "markdown",
   "id": "a3d8fa61",
   "metadata": {},
   "source": [
    "## Q8) Write a Python program to input week number and print weekday."
   ]
  },
  {
   "cell_type": "code",
   "execution_count": 8,
   "id": "7dccc962",
   "metadata": {},
   "outputs": [
    {
     "name": "stdout",
     "output_type": "stream",
     "text": [
      "Enter a week number (1-7): 7\n",
      "Sunday\n"
     ]
    }
   ],
   "source": [
    "week_number = int(input(\"Enter a week number (1-7): \"))\n",
    "\n",
    "if week_number == 1:\n",
    "    print(\"Monday\")\n",
    "elif week_number == 2:\n",
    "    print(\"Tuesday\")\n",
    "elif week_number == 3:\n",
    "    print(\"Wednesday\")\n",
    "elif week_number == 4:\n",
    "    print(\"Thursday\")\n",
    "elif week_number == 5:\n",
    "    print(\"Friday\")\n",
    "elif week_number == 6:\n",
    "    print(\"Saturday\")\n",
    "elif week_number == 7:\n",
    "    print(\"Sunday\")\n",
    "else:\n",
    "    print(\"Invalid week number. Please enter a number between 1 and 7.\")"
   ]
  },
  {
   "cell_type": "markdown",
   "id": "5d7eef01",
   "metadata": {},
   "source": [
    "## Q9) Write a Python program to input angles of a triangle and check whether triangle is valid or not."
   ]
  },
  {
   "cell_type": "code",
   "execution_count": 10,
   "id": "eb35b7c2",
   "metadata": {},
   "outputs": [
    {
     "name": "stdout",
     "output_type": "stream",
     "text": [
      "Enter the first angle: 90\n",
      "Enter the second angle: 20\n",
      "Enter the third angle: 70\n",
      "Valid triangle\n"
     ]
    }
   ],
   "source": [
    "a=float(input(\"Enter the first angle: \"))\n",
    "b=float(input(\"Enter the second angle: \"))\n",
    "c=float(input(\"Enter the third angle: \"))\n",
    "if a+b+c==180:\n",
    "    print(\"Valid triangle\")\n",
    "else:\n",
    "    print(\"Invalid triangle\")"
   ]
  },
  {
   "cell_type": "markdown",
   "id": "09d4bede",
   "metadata": {},
   "source": [
    "## Q10) Write a Python program to input all sides of a triangle and check whether triangle is valid or not."
   ]
  },
  {
   "cell_type": "code",
   "execution_count": 12,
   "id": "0b2cf1cf",
   "metadata": {},
   "outputs": [
    {
     "name": "stdout",
     "output_type": "stream",
     "text": [
      "Enter the length of side 1: 23\n",
      "Enter the length of side 2: 44\n",
      "Enter the length of side 3: 32\n",
      "The triangle is valid.\n"
     ]
    }
   ],
   "source": [
    "side1 = float(input(\"Enter the length of side 1: \"))\n",
    "side2 = float(input(\"Enter the length of side 2: \"))\n",
    "side3 = float(input(\"Enter the length of side 3: \"))\n",
    "\n",
    "if side1 + side2 > side3 and side2 + side3 > side1 and side1 + side3 > side2:\n",
    "    print(\"The triangle is valid.\")\n",
    "else:\n",
    "    print(\"The triangle is not valid.\")"
   ]
  },
  {
   "cell_type": "markdown",
   "id": "8e8f07c9",
   "metadata": {},
   "source": [
    "## Q11) Write a Python program to check whether the triangle is equilateral, isosceles or scalene triangle."
   ]
  },
  {
   "cell_type": "code",
   "execution_count": 13,
   "id": "92c09cae",
   "metadata": {},
   "outputs": [
    {
     "name": "stdout",
     "output_type": "stream",
     "text": [
      "Enter the length of side 1: 22\n",
      "Enter the length of side 2: 22\n",
      "Enter the length of side 3: 22\n",
      "The triangle is an equilateral triangle.\n"
     ]
    }
   ],
   "source": [
    "    side1 = float(input(\"Enter the length of side 1: \"))\n",
    "    side2 = float(input(\"Enter the length of side 2: \"))\n",
    "    side3 = float(input(\"Enter the length of side 3: \"))\n",
    "\n",
    "    if side1 == side2 == side3:\n",
    "        print(\"The triangle is an equilateral triangle.\")\n",
    "    elif side1 == side2 or side2 == side3 or side1 == side3:\n",
    "        print(\"The triangle is an isosceles triangle.\")\n",
    "    else:\n",
    "        print(\"The triangle is a scalene triangle.\")"
   ]
  },
  {
   "cell_type": "markdown",
   "id": "95a86a47",
   "metadata": {},
   "source": [
    "## Q12) Write a Python program to input marks of five subjects Physics, Chemistry, Biology, Mathematics and Computer. Calculate percentage and grade according to following:\n",
    "Percentage >= 90% : Grade A  \n",
    "Percentage >= 80% : Grade B  \n",
    "Percentage >= 70% : Grade C  \n",
    "Percentage >= 60% : Grade D  \n",
    "Percentage >= 40% : Grade E  \n",
    "Percentage < 40% : Grade F  "
   ]
  },
  {
   "cell_type": "code",
   "execution_count": 15,
   "id": "cbabb3e2",
   "metadata": {},
   "outputs": [
    {
     "name": "stdout",
     "output_type": "stream",
     "text": [
      "Enter the marks obtained in Physics: 95\n",
      "Enter the marks obtained in Chemistry: 90\n",
      "Enter the marks obtained in Biology: 88\n",
      "Enter the marks obtained in Mathematics: 100\n",
      "Enter the marks obtained in Computer: 100\n",
      "Percentage: 94.6%\n",
      "Grade: A\n"
     ]
    }
   ],
   "source": [
    "    physics = float(input(\"Enter the marks obtained in Physics: \"))\n",
    "    chemistry = float(input(\"Enter the marks obtained in Chemistry: \"))\n",
    "    biology = float(input(\"Enter the marks obtained in Biology: \"))\n",
    "    mathematics = float(input(\"Enter the marks obtained in Mathematics: \"))\n",
    "    computer = float(input(\"Enter the marks obtained in Computer: \"))\n",
    "\n",
    "    total_marks = physics + chemistry + biology + mathematics + computer\n",
    "    percentage = (total_marks / 500) * 100\n",
    "\n",
    "    grade = ''\n",
    "    if percentage >= 90:\n",
    "        grade = 'A'\n",
    "    elif percentage >= 80:\n",
    "        grade = 'B'\n",
    "    elif percentage >= 70:\n",
    "        grade = 'C'\n",
    "    elif percentage >= 60:\n",
    "        grade = 'D'\n",
    "    elif percentage >= 45:\n",
    "        grade = 'E'\n",
    "    else:\n",
    "        grade = 'F'\n",
    "\n",
    "    print(f\"Percentage: {percentage}%\")\n",
    "    print(f\"Grade: {grade}\")"
   ]
  },
  {
   "cell_type": "markdown",
   "id": "664b8a39",
   "metadata": {},
   "source": [
    "## Q13) Write a Python program to input basic salary of an employee and calculate its Gross salary according to following:\n",
    "        Basic Salary <= 10000 : HRA = 20%, DA = 80%  \n",
    "\n",
    "        Basic Salary <= 20000 : HRA = 25%, DA = 90%  \n",
    "\n",
    "        Basic Salary > 20000 : HRA = 30%, DA = 95%  "
   ]
  },
  {
   "cell_type": "code",
   "execution_count": 17,
   "id": "d94f0a94",
   "metadata": {},
   "outputs": [
    {
     "name": "stdout",
     "output_type": "stream",
     "text": [
      "Enter the basic salary of the employee: 90000\n",
      "Gross Salary: 202500.0\n"
     ]
    }
   ],
   "source": [
    "    basic_salary = float(input(\"Enter the basic salary of the employee: \"))\n",
    "\n",
    "    if basic_salary <= 10000:\n",
    "        hra = 0.2 * basic_salary\n",
    "        da = 0.8 * basic_salary\n",
    "    elif basic_salary <= 20000:\n",
    "        hra = 0.25 * basic_salary\n",
    "        da = 0.9 * basic_salary\n",
    "    else:\n",
    "        hra = 0.3 * basic_salary\n",
    "        da = 0.95 * basic_salary\n",
    "\n",
    "    gross_salary = basic_salary + hra + da\n",
    "\n",
    "    print(f\"Gross Salary: {gross_salary}\")"
   ]
  },
  {
   "cell_type": "markdown",
   "id": "bf20fda3",
   "metadata": {},
   "source": [
    "## Q14) Write a Python Program to input electricity unit charges and calculate total electricity bill according to the given condition:\n",
    "For first 50 units Rs. 0.50/unit  \n",
    "For next 100 units Rs. 0.75/unit  \n",
    "For next 100 units Rs. 1.20/unit  \n",
    "For unit above 250 Rs. 1.50/unit  \n",
    "An additional surcharge of 20% is added to the bill   \n"
   ]
  },
  {
   "cell_type": "code",
   "execution_count": 18,
   "id": "5dfd047b",
   "metadata": {},
   "outputs": [
    {
     "name": "stdout",
     "output_type": "stream",
     "text": [
      "Enter the electricity unit charges: 100\n",
      "Total Electricity Bill: Rs. 75.00\n"
     ]
    }
   ],
   "source": [
    "    unit_charges = float(input(\"Enter the electricity unit charges: \"))\n",
    "\n",
    "    if unit_charges <= 50:\n",
    "        total_bill = unit_charges * 0.50\n",
    "    elif unit_charges <= 150:\n",
    "        total_bill = (50 * 0.50) + ((unit_charges - 50) * 0.75)\n",
    "    elif unit_charges <= 250:\n",
    "        total_bill = (50 * 0.50) + (100 * 0.75) + ((unit_charges - 150) * 1.20)\n",
    "    else:\n",
    "        total_bill = (50 * 0.50) + (100 * 0.75) + (100 * 1.20) + ((unit_charges - 250) * 1.50)\n",
    "\n",
    "    surcharge = total_bill * 0.20\n",
    "    total_bill += surcharge\n",
    "\n",
    "    print(f\"Total Electricity Bill: Rs. {total_bill:.2f}\")"
   ]
  },
  {
   "cell_type": "code",
   "execution_count": null,
   "id": "ae414299",
   "metadata": {},
   "outputs": [],
   "source": []
  }
 ],
 "metadata": {
  "kernelspec": {
   "display_name": "Python 3 (ipykernel)",
   "language": "python",
   "name": "python3"
  },
  "language_info": {
   "codemirror_mode": {
    "name": "ipython",
    "version": 3
   },
   "file_extension": ".py",
   "mimetype": "text/x-python",
   "name": "python",
   "nbconvert_exporter": "python",
   "pygments_lexer": "ipython3",
   "version": "3.9.12"
  }
 },
 "nbformat": 4,
 "nbformat_minor": 5
}
