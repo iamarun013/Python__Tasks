{
 "cells": [
  {
   "cell_type": "markdown",
   "id": "0d94a80d",
   "metadata": {},
   "source": [
    "# Day 5 Task\n",
    "## Q1) What is difference between shallow copy and deep copy?\n",
    "### Shallow Copy:\n",
    "A shallow copy creates a new object and then inserts references to the objects found in the original.\n",
    "The copied object is a new container, but the elements inside it still refer to the same objects as the original.\n",
    "Modifying the original object may affect the copied object, as they share the same references.\n",
    "Shallow copy can be performed using the copy() method or the slice operator [:].\n",
    "\n",
    "### Deep Copy:\n",
    "A deep copy creates a new object and recursively inserts copies of the objects found in the original.\n",
    "Both the outer container and the nested objects are copied, resulting in completely independent objects.\n",
    "Modifying the original object does not affect the copied object, as they have separate memory locations.\n",
    "Deep copy can be performed using the deepcopy() method from the copy module.\n",
    "\n",
    "Example"
   ]
  },
  {
   "cell_type": "code",
   "execution_count": 4,
   "id": "f59cca32",
   "metadata": {},
   "outputs": [
    {
     "name": "stdout",
     "output_type": "stream",
     "text": [
      "[100, 20, 30, [40, 50, 200]]\n",
      "[10, 20, 30, [40, 50, 200]]\n",
      "[10, 20, 30, [40, 50]]\n"
     ]
    }
   ],
   "source": [
    "import copy\n",
    "\n",
    "original_list=[10, 20,30, [40, 50]]\n",
    "shallow_copy= copy.copy(original_list)\n",
    "deep_copy=copy.deepcopy(original_list)\n",
    "\n",
    "original_list[0]=100\n",
    "original_list[3].append(200)\n",
    "print(original_list)\n",
    "print(shallow_copy)\n",
    "print(deep_copy)\n"
   ]
  },
  {
   "cell_type": "markdown",
   "id": "5f3e4c0f",
   "metadata": {},
   "source": [
    "## Q2) You want to create a library management application, you need to store data about books, students in your program, how will you store data inside python using list? Create some lists with fake data to store information about library management."
   ]
  },
  {
   "cell_type": "code",
   "execution_count": 5,
   "id": "39e9ace1",
   "metadata": {},
   "outputs": [],
   "source": [
    "books = [\n",
    "    {'title': 'THE KITE RUNNER', 'author': 'KHALED HOSSEINI', 'order': 'P34S'},\n",
    "    {'title': '11 MINUTES', 'author': 'PAULO CHOELHO', 'order': '53OG'},\n",
    "    {'title': 'TO KILL A MOCKING BIRD', 'author': 'HARPER LEE', 'order': 'B2WE'},\n",
    "]\n",
    "students = [\n",
    "    {'name': 'ANITA', 'id': 2897, 'books_taken': ['THE KITE RUNNER', 'TO KILL A MOCKING BIRD']},\n",
    "    {'name': 'KABERI', 'id': 9076, 'books_taken': ['11 MINUTES']},\n",
    "    {'name': 'BOSUDHA', 'id': 4563, 'books_taken': ['THE KITE RUNNER','11 MINUTES']},\n",
    "]"
   ]
  },
  {
   "cell_type": "markdown",
   "id": "46bfa69d",
   "metadata": {},
   "source": [
    "## Q3)What is the difference between an expression and a statement?\n",
    "### Expression:\n",
    "An expression is a piece of code that produces a value when evaluated.\n",
    "It can be as simple as a single value or involve complex combinations of operators, variables, and function calls.-\n",
    "\n",
    "Expressions can be used as part of larger expressions, as arguments to functions, or to assign values to variables.\n",
    "Examples of expressions include arithmetic expressions (2 + 3), function calls (math.sqrt(9)), variable references (x), and logical expressions (x > 5 and y < 10).\n",
    "Expressions can be used as part of larger expressions, as arguments to functions, or to assign values to variables.\n",
    "\n",
    "### Statement:\n",
    "A statement is a unit of code that performs an action or a sequence of actions.\n",
    "It can include expressions but is not necessarily an expression itself.\n",
    "Statements are typically used to control the flow of a program, perform assignments, make decisions, or repeat actions.\n",
    "\n",
    "Examples of statements include assignment statements (x = 5), conditional statements (if-else), loop statements (for, while), and function definitions (def)."
   ]
  },
  {
   "cell_type": "markdown",
   "id": "4c03280c",
   "metadata": {},
   "source": [
    "## Q4) Define following\n",
    "Atomic data types / Primary data types\n",
    "\n",
    "Secondary data type / User Defined Data Type\n",
    "\n",
    "### Atomic Data Types / Primary Data Types:\n",
    "Atomic data types, also known as primary data types, are the fundamental built-in data types provided by a programming language.\n",
    "\n",
    "These data types represent basic and indivisible units of data that cannot be further broken down into simpler components.\n",
    "\n",
    "Atomic data types in Python include integers (int), floating-point numbers (float), booleans (bool), and strings (str).\n",
    "\n",
    "### Secondary Data Type / User-Defined Data Type:\n",
    "A secondary data type, also known as a user-defined data type, is a data type that is created by the programmer using the built-in data types or other user-defined data types.\n",
    "\n",
    "It is derived from or composed of one or more primary data types, allowing for the creation of complex and custom data structures.\n",
    "\n",
    "In Python, secondary data types can be created using classes to define objects with attributes and methods.\n",
    "\n",
    "Examples of secondary data types in Python can include lists, dictionaries, tuples, sets, and custom-defined classes.\n",
    "\n",
    "## Q5) What is UDF?\n",
    "UDF stands for User-Defined Function. In programming, a User-Defined Function refers to a function that is defined by the programmer rather than being built-in or provided by the programming language itself."
   ]
  },
  {
   "cell_type": "code",
   "execution_count": null,
   "id": "21657513",
   "metadata": {},
   "outputs": [],
   "source": []
  }
 ],
 "metadata": {
  "kernelspec": {
   "display_name": "Python 3 (ipykernel)",
   "language": "python",
   "name": "python3"
  },
  "language_info": {
   "codemirror_mode": {
    "name": "ipython",
    "version": 3
   },
   "file_extension": ".py",
   "mimetype": "text/x-python",
   "name": "python",
   "nbconvert_exporter": "python",
   "pygments_lexer": "ipython3",
   "version": "3.9.12"
  }
 },
 "nbformat": 4,
 "nbformat_minor": 5
}
