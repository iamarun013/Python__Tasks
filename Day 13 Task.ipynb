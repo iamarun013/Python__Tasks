{
 "cells": [
  {
   "cell_type": "code",
   "execution_count": 3,
   "id": "e3890a82",
   "metadata": {},
   "outputs": [
    {
     "name": "stdout",
     "output_type": "stream",
     "text": [
      "Enter a string:aeajeuvyu\n",
      "Count of the vowels in the string are:\n",
      "\n",
      "{'a': 2, 'e': 2, 'u': 2}\n"
     ]
    }
   ],
   "source": [
    "def count_vowels(string):\n",
    "    vowels=['a', 'e', 'i', 'o', 'u']\n",
    "    count={}\n",
    "    for char in string:\n",
    "        if char.lower() in vowels:\n",
    "            if char.lower() in count:\n",
    "                count[char.lower()]+=1\n",
    "            else:\n",
    "                count[char.lower()]=1\n",
    "    return count\n",
    "string=input(\"Enter a string:\")\n",
    "count_vowels(string)\n",
    "print(\"Count of the vowels in the string are:\\n\")\n",
    "print(count_vowels(string))            \n",
    "    "
   ]
  },
  {
   "cell_type": "code",
   "execution_count": 5,
   "id": "2b654b20",
   "metadata": {},
   "outputs": [
    {
     "name": "stdout",
     "output_type": "stream",
     "text": [
      "Enter a string: Ami Mayer Bhokto\n",
      "Number of words: 3\n",
      "Number of characters: 16\n",
      "Number of spaces: 3\n"
     ]
    }
   ],
   "source": [
    "def count(string):\n",
    "    character = len(string)\n",
    "    word = string.split()\n",
    "    word_count = len(word)\n",
    "    return word_count, character, len(word)\n",
    "\n",
    "string = input(\"Enter a string: \")\n",
    "words, characters, spaces = count(string)\n",
    "print(\"Number of words:\", words)\n",
    "print(\"Number of characters:\", characters)\n",
    "print(\"Number of spaces:\", spaces)\n",
    "\n"
   ]
  },
  {
   "cell_type": "code",
   "execution_count": null,
   "id": "2be699e7",
   "metadata": {},
   "outputs": [],
   "source": [
    "m = int(input(\"Enter the number of rows: \"))\n",
    "n = int(input(\"Enter the number of columns: \"))\n",
    "matrix = []\n",
    "for i in range(m):\n",
    "    row = []\n",
    "    for j in range(n):\n",
    "        element = int(input(f\"Enter element ({i+1}, {j+1}): \"))\n",
    "        row.append(element)\n",
    "    matrix.append(row)\n",
    "print(matrix)"
   ]
  },
  {
   "cell_type": "code",
   "execution_count": null,
   "id": "f326f8c6",
   "metadata": {},
   "outputs": [],
   "source": []
  }
 ],
 "metadata": {
  "kernelspec": {
   "display_name": "Python 3 (ipykernel)",
   "language": "python",
   "name": "python3"
  },
  "language_info": {
   "codemirror_mode": {
    "name": "ipython",
    "version": 3
   },
   "file_extension": ".py",
   "mimetype": "text/x-python",
   "name": "python",
   "nbconvert_exporter": "python",
   "pygments_lexer": "ipython3",
   "version": "3.9.12"
  }
 },
 "nbformat": 4,
 "nbformat_minor": 5
}
