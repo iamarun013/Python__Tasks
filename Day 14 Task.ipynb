{
 "cells": [
  {
   "cell_type": "code",
   "execution_count": 2,
   "id": "357199ea",
   "metadata": {},
   "outputs": [
    {
     "name": "stdout",
     "output_type": "stream",
     "text": [
      "Enter the number:243\n",
      "the sum of the characters of the number input is\n",
      "9\n"
     ]
    }
   ],
   "source": [
    "n=int(input(\"Enter the number:\"))\n",
    "s=0\n",
    "while n>0:\n",
    "    r=int(n%10)\n",
    "    s=s+r\n",
    "    n=n//10\n",
    "print(\"the sum of the characters of the number input is\")\n",
    "print(s)"
   ]
  },
  {
   "cell_type": "markdown",
   "id": "07ce2c62",
   "metadata": {},
   "source": [
    "### or"
   ]
  },
  {
   "cell_type": "code",
   "execution_count": 5,
   "id": "6ecb1374",
   "metadata": {},
   "outputs": [
    {
     "name": "stdout",
     "output_type": "stream",
     "text": [
      "Enter the number:234\n",
      "The sum of digits of the number until it is reduced to 1 digit is: 9\n"
     ]
    }
   ],
   "source": [
    "num =input(\"Enter the number:\")\n",
    "sum=0\n",
    "\n",
    "while len(num)>1:\n",
    "    for digit in num:\n",
    "        sum += int(digit)\n",
    "    num=str(sum)\n",
    "    sum = 0\n",
    "\n",
    "print(\"The sum of digits of the number until it is reduced to 1 digit is:\", num)\n",
    "    "
   ]
  },
  {
   "cell_type": "code",
   "execution_count": 6,
   "id": "539ce5d1",
   "metadata": {},
   "outputs": [
    {
     "name": "stdout",
     "output_type": "stream",
     "text": [
      "Enter the first number: 20\n",
      "Enter the second number: 28\n",
      "The GCD of 20 and 28 is 4\n",
      "The LCM of 20 and 28 is 140\n"
     ]
    }
   ],
   "source": [
    "def gcd(a, b):\n",
    "    if b == 0:\n",
    "        return a\n",
    "    else:\n",
    "        return gcd(b, a % b)\n",
    "\n",
    "a = int(input(\"Enter the first number: \"))\n",
    "b = int(input(\"Enter the second number: \"))\n",
    "\n",
    "gcd_result = gcd(a, b)\n",
    "lcm = (a * b) // gcd_result\n",
    "\n",
    "print(\"The GCD of\", a, \"and\", b, \"is\", gcd_result)\n",
    "print(\"The LCM of\", a, \"and\", b, \"is\", lcm)"
   ]
  },
  {
   "cell_type": "code",
   "execution_count": 7,
   "id": "da95c5f6",
   "metadata": {},
   "outputs": [
    {
     "name": "stdout",
     "output_type": "stream",
     "text": [
      "Enter any number: 23\n",
      "Cubes of numbers divisible by 3:\n",
      "27\n",
      "216\n",
      "729\n",
      "1728\n",
      "3375\n",
      "5832\n",
      "9261\n",
      "\n",
      "Rewritten using the continue statement:\n",
      "27\n",
      "216\n",
      "729\n",
      "1728\n",
      "3375\n",
      "5832\n",
      "9261\n"
     ]
    }
   ],
   "source": [
    "while True:\n",
    "    try:\n",
    "        n = int(input(\"Enter any number: \"))\n",
    "        break\n",
    "    except ValueError:\n",
    "        print(\"Invalid input. Please enter an integer.\")\n",
    "\n",
    "print(\"Cubes of numbers divisible by 3:\")\n",
    "for i in range(1, n + 1):\n",
    "    if i % 3 == 0:\n",
    "        print(i**3)\n",
    "\n",
    "print(\"\\nRewritten using the continue statement:\")\n",
    "for i in range(1, n + 1):\n",
    "    if i % 3 != 0:\n",
    "        continue\n",
    "    print(i**3)\n"
   ]
  },
  {
   "cell_type": "code",
   "execution_count": 8,
   "id": "81b5423a",
   "metadata": {},
   "outputs": [
    {
     "name": "stdout",
     "output_type": "stream",
     "text": [
      "Enter a number: 455\n",
      "The number of digits in the number are: 3\n"
     ]
    }
   ],
   "source": [
    "num = int(input(\"Enter a number: \"))\n",
    "count = 0\n",
    "\n",
    "if num == 0:\n",
    "    count = 1\n",
    "\n",
    "while num != 0:\n",
    "    count += 1\n",
    "    num //= 10\n",
    "\n",
    "print(\"The number of digits in the number are:\", count)"
   ]
  },
  {
   "cell_type": "code",
   "execution_count": null,
   "id": "2cc6dc08",
   "metadata": {},
   "outputs": [],
   "source": [
    "num = int(input(\"Enter a number: \"))\n",
    "reverse_num = 0\n",
    "\n",
    "while num > 0:\n",
    "    remainder = num % 10\n",
    "    reverse_num = (reverse_num * 10) + remainder\n",
    "    num = num // 10\n",
    "\n",
    "print(\"Reverse of the number:\", reverse_num)\n",
    "print(\"Double of the reverse number:\", reverse_num * 2)\n"
   ]
  }
 ],
 "metadata": {
  "kernelspec": {
   "display_name": "Python 3 (ipykernel)",
   "language": "python",
   "name": "python3"
  },
  "language_info": {
   "codemirror_mode": {
    "name": "ipython",
    "version": 3
   },
   "file_extension": ".py",
   "mimetype": "text/x-python",
   "name": "python",
   "nbconvert_exporter": "python",
   "pygments_lexer": "ipython3",
   "version": "3.9.12"
  }
 },
 "nbformat": 4,
 "nbformat_minor": 5
}
