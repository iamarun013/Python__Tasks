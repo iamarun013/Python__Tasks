{
 "cells": [
  {
   "cell_type": "markdown",
   "id": "983764ac",
   "metadata": {},
   "source": [
    "# DAY10\n",
    "## Q1) Python Program to Check Palindrome Number"
   ]
  },
  {
   "cell_type": "code",
   "execution_count": 1,
   "id": "46fd7336",
   "metadata": {},
   "outputs": [
    {
     "name": "stdout",
     "output_type": "stream",
     "text": [
      "Enter the number: 121\n",
      "Palindrome number\n"
     ]
    }
   ],
   "source": [
    "n=int(input(\"Enter the number: \"))\n",
    "nostr=str(n)\n",
    "revstr=nostr[::-1]\n",
    "if nostr==revstr:\n",
    "    print(\"Palindrome number\")\n",
    "else:\n",
    "    print(\"Not Palindrome number\")"
   ]
  },
  {
   "cell_type": "markdown",
   "id": "9bb85065",
   "metadata": {},
   "source": [
    "## Q2) Python Program to Print all multiples of 3 and 5 in an Interval"
   ]
  },
  {
   "cell_type": "code",
   "execution_count": 2,
   "id": "ff6d0720",
   "metadata": {},
   "outputs": [
    {
     "name": "stdout",
     "output_type": "stream",
     "text": [
      "Enter the starting number: 1\n",
      "Enter the ending number: 100\n",
      "Multiples of 3 and 5: [3, 5, 6, 9, 10, 12, 15, 18, 20, 21, 24, 25, 27, 30, 33, 35, 36, 39, 40, 42, 45, 48, 50, 51, 54, 55, 57, 60, 63, 65, 66, 69, 70, 72, 75, 78, 80, 81, 84, 85, 87, 90, 93, 95, 96, 99, 100]\n"
     ]
    }
   ],
   "source": [
    "def print_multiples(start, end):\n",
    "    multiples = []\n",
    "    for num in range(start, end + 1):\n",
    "        if num % 3 == 0 or num % 5 == 0:\n",
    "            multiples.append(num)\n",
    "    return multiples\n",
    "\n",
    "start = int(input(\"Enter the starting number: \"))\n",
    "end = int(input(\"Enter the ending number: \"))\n",
    "result = print_multiples(start, end)\n",
    "print(\"Multiples of 3 and 5:\", result)"
   ]
  },
  {
   "cell_type": "markdown",
   "id": "2b64363a",
   "metadata": {},
   "source": [
    "## Q3) Python Program to Find the Factorial of a Number"
   ]
  },
  {
   "cell_type": "code",
   "execution_count": 1,
   "id": "a2d99bcf",
   "metadata": {},
   "outputs": [
    {
     "name": "stdout",
     "output_type": "stream",
     "text": [
      "Enter the number: 5\n",
      "Factorial is:  120\n"
     ]
    }
   ],
   "source": [
    "def fact(n):\n",
    "    if n == 1:\n",
    "        return 1\n",
    "    else:\n",
    "        return n * fact(n-1)\n",
    "\n",
    "no = int(input(\"Enter the number: \"))\n",
    "print(\"Factorial is: \", fact(no))"
   ]
  },
  {
   "cell_type": "markdown",
   "id": "69f8cc0a",
   "metadata": {},
   "source": [
    "## Q4) Python Program to Print the Fibonacci sequence"
   ]
  },
  {
   "cell_type": "code",
   "execution_count": 3,
   "id": "d4796311",
   "metadata": {},
   "outputs": [
    {
     "name": "stdout",
     "output_type": "stream",
     "text": [
      "Enter the number for the sequence: 5\n",
      "[0, 1, 1, 2, 3]\n"
     ]
    }
   ],
   "source": [
    "def fibonacci(n):\n",
    "    fb=[0, 1]\n",
    "    for i in range(2, n):\n",
    "        add=fb[i-2]+fb[i-1]\n",
    "        fb.append(add)\n",
    "    return fb\n",
    "no=int(input(\"Enter the number for the sequence: \"))\n",
    "print(fibonacci(no))   "
   ]
  },
  {
   "cell_type": "code",
   "execution_count": null,
   "id": "d2ca1c45",
   "metadata": {},
   "outputs": [],
   "source": []
  }
 ],
 "metadata": {
  "kernelspec": {
   "display_name": "Python 3 (ipykernel)",
   "language": "python",
   "name": "python3"
  },
  "language_info": {
   "codemirror_mode": {
    "name": "ipython",
    "version": 3
   },
   "file_extension": ".py",
   "mimetype": "text/x-python",
   "name": "python",
   "nbconvert_exporter": "python",
   "pygments_lexer": "ipython3",
   "version": "3.9.12"
  }
 },
 "nbformat": 4,
 "nbformat_minor": 5
}
