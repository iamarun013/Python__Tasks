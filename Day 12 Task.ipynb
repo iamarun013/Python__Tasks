{
 "cells": [
  {
   "cell_type": "code",
   "execution_count": 3,
   "id": "bd922b2d",
   "metadata": {},
   "outputs": [
    {
     "name": "stdout",
     "output_type": "stream",
     "text": [
      "Let's play the guessing game\n",
      "Think of a number between 1-25\n",
      "Enter the number: 22\n",
      "Think a lower number!\n",
      "Enter the number: 15\n",
      "Think a lower number!\n",
      "Enter the number: 10\n",
      "Think a lower number!\n",
      "Enter the number: 7\n",
      "Think a lower number!\n",
      "Enter the number: 4\n",
      "Think a lower number!\n",
      "Game over!\n",
      "the number was 3\n"
     ]
    }
   ],
   "source": [
    "# Q-1\n",
    "import random\n",
    "print(\"Let's play the guessing game\")\n",
    "print(\"Think of a number between 1-25\")\n",
    "num=random.randint(1, 25)\n",
    "for i in range(5):\n",
    "    guess_number=int(input('Enter the number: '))\n",
    "    if guess_number>num:\n",
    "        print('Think a lower number!')\n",
    "    elif guess_number<num:\n",
    "        print('Think a bigger number!')\n",
    "    elif guess_number==num:\n",
    "        print('Congrats! You win.')\n",
    "        break\n",
    "    else:\n",
    "        print('Think in the limit 1 to 25 only!')\n",
    "        continue\n",
    "print('Game over!')\n",
    "print('the number was',num)\n"
   ]
  },
  {
   "cell_type": "code",
   "execution_count": 8,
   "id": "c6468bec",
   "metadata": {},
   "outputs": [
    {
     "name": "stdout",
     "output_type": "stream",
     "text": [
      "[1, 8, 20, 4, 12, 23, 11, 42]\n"
     ]
    }
   ],
   "source": [
    "a = [8, 1, 42, 20, 4, 12, 23, 11]\n",
    "\n",
    "for i in range(1, len(a)):\n",
    "    if a[i - 1] > a[i]:\n",
    "        temp = a[i]\n",
    "        a[i] = a[i - 1]\n",
    "        a[i - 1] = temp\n",
    "\n",
    "print(a)\n"
   ]
  },
  {
   "cell_type": "code",
   "execution_count": 15,
   "id": "299475e1",
   "metadata": {},
   "outputs": [
    {
     "name": "stdout",
     "output_type": "stream",
     "text": [
      "[8, 10, 13, 18, 21, 22, 24, 29, 32]\n"
     ]
    }
   ],
   "source": [
    "def insort(arr):\n",
    "    for i in range(1, len(arr)):\n",
    "        j=i\n",
    "        while j>0 and arr[j]<arr[j-1]:\n",
    "            arr[j-1],arr[j]=arr[j],arr[j-1]\n",
    "            j=j-1\n",
    "    return arr\n",
    "arr=[10,8,13,21,18,29,32,22,24]\n",
    "insort(arr)\n",
    "print(arr)"
   ]
  },
  {
   "cell_type": "code",
   "execution_count": 19,
   "id": "2d7821af",
   "metadata": {},
   "outputs": [
    {
     "name": "stdout",
     "output_type": "stream",
     "text": [
      "[8, 10, 13, 18, 21, 22, 24, 29, 32]\n"
     ]
    }
   ],
   "source": [
    "def selectionsort(arr):\n",
    "    for i in range(len(arr)):\n",
    "        min_index=i\n",
    "        for j in range(i+1, len(arr)):\n",
    "            if arr[j]<arr[min_index]:\n",
    "                min_index=j\n",
    "        arr[i], arr[min_index] = arr[min_index], arr[i]\n",
    "    return arr\n",
    "\n",
    "arr=[10,8,13,21,18,29,32,22,24]\n",
    "selectionsort(arr)\n",
    "print(arr)\n"
   ]
  },
  {
   "cell_type": "code",
   "execution_count": null,
   "id": "66e6c36f",
   "metadata": {},
   "outputs": [],
   "source": []
  }
 ],
 "metadata": {
  "kernelspec": {
   "display_name": "Python 3 (ipykernel)",
   "language": "python",
   "name": "python3"
  },
  "language_info": {
   "codemirror_mode": {
    "name": "ipython",
    "version": 3
   },
   "file_extension": ".py",
   "mimetype": "text/x-python",
   "name": "python",
   "nbconvert_exporter": "python",
   "pygments_lexer": "ipython3",
   "version": "3.9.12"
  }
 },
 "nbformat": 4,
 "nbformat_minor": 5
}
