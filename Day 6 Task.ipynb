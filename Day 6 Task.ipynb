{
 "cells": [
  {
   "cell_type": "markdown",
   "id": "5d2bbd28",
   "metadata": {},
   "source": [
    "# DAY 6\n",
    "## Q1)Write down 10 projects ideas you want to implement using python\n"
   ]
  },
  {
   "cell_type": "markdown",
   "id": "5ac2617f",
   "metadata": {},
   "source": [
    "1.A web scraper  \n",
    "2.An AI-powered chatbot  \n",
    "3.A sentiment analysis tool  \n",
    "4.A recommendation engine  \n",
    "5.A weather app  \n",
    "6.Fingerprint sensor  \n",
    "7.Timeline Analysis  \n",
    "8.Fun Quize Games  \n",
    "9.Network Analysis  \n",
    "10.Movie Recommendation System  "
   ]
  },
  {
   "cell_type": "markdown",
   "id": "2690f789",
   "metadata": {},
   "source": [
    "## Q2) Create at list 5 objects using list, dictionary, it will be good if you store realistic data."
   ]
  },
  {
   "cell_type": "code",
   "execution_count": 3,
   "id": "db1ed95f",
   "metadata": {},
   "outputs": [],
   "source": [
    "student=[\n",
    "    {\n",
    "        'name':'Arunava Saha',\n",
    "        'age':22,\n",
    "        'id':2028090\n",
    "    },\n",
    "    {\n",
    "        'name':'Akash Nag',\n",
    "        'age':23,\n",
    "        'id':2028084\n",
    "    }\n",
    "]\n",
    "books=[\n",
    "    {'title': 'The Kite Runner','author': 'Khaled Hosseine','genre': 'Literary Fiction','year': 2003\n",
    "    },\n",
    "    {'title': 'To Kill a Mockingbird','author': 'Harper Lee','genre': 'Fiction','year': 1960\n",
    "    },\n",
    "    \n",
    "]\n",
    "countries = [\n",
    "    {'name': 'United States','population': 331002651,'capital': 'Washington, D.C.','language': 'English'\n",
    "    },\n",
    "    {'name': 'France','population': 65273511,'capital': 'Paris','language': 'French'\n",
    "    }\n",
    "]\n",
    "courses = [\n",
    "    \n",
    "    {\n",
    "        'course_id': 'CS569',\n",
    "        'course_name': 'Data Structures and Algorithms',\n",
    "        'instructor': 'Prof. Jane Doe',\n",
    "        'credits': 4,\n",
    "        'semester': 'Spring 2024',\n",
    "        'description': 'A comprehensive study of data structures and algorithms, focusing on their implementation, analysis, and application in solving complex problems.'\n",
    "    },\n",
    "    {\n",
    "        'course_id': 'CS199',\n",
    "        'course_name': 'Database Management System',\n",
    "        'instructor': 'Dr. AS',\n",
    "        'credits': 3,\n",
    "        'semester': 'Autum 2023',\n",
    "        'description': 'An introductory course covering the basics of DBMS, students learn about the architecture, design, implementation, and administration of databases. They also learn how to use SQL (Structured Query Language), which is the standard language used to interact with relational databases.'\n",
    "    },\n",
    "]\n"
   ]
  },
  {
   "cell_type": "markdown",
   "id": "6fe73c2d",
   "metadata": {},
   "source": [
    "## Q3) What is duck typing in python, what are Dunder or special methods?\n",
    "### Duck Typing:\n",
    "Duck typing is a programming concept in Python that focuses on the behavior of an object rather than its specific type or class. In Python, this means that the suitability of an object for a particular operation is determined by whether the object supports the required behavior, rather than its explicit type. For example, if an object can perform the necessary methods or operations expected of it, it can be considered suitable for a given context, regardless of its actual class or type.\n",
    "\n",
    "### Dunder (Double Under) or Special Methods:\n",
    "Dunder methods, also known as special methods or magic methods, are predefined methods in Python that have double underscores (underscores both at the beginning and end of the method name). These special methods allow classes to define or customize various built-in behaviors and operations. For example, the init method is a special method used to initialize an object when it is created.\n",
    "\n",
    "## Q4) What are operators? How many types of operators are there in python?\n",
    "Operators are symbols or special characters that perform operations on one or more operands (values or variables). Operators allow you to manipulate data and perform computations in your code."
   ]
  },
  {
   "cell_type": "markdown",
   "id": "5df80336",
   "metadata": {},
   "source": [
    "Mainly there are 7 types of operators in python\n",
    "Arithmetic Operators  \n",
    "Assignment Operators  \n",
    "Comparison Operators  \n",
    "Logical Operators  \n",
    "Bitwise Operators   \n",
    "Membership Operators  \n",
    "Identity Operators  "
   ]
  },
  {
   "cell_type": "code",
   "execution_count": null,
   "id": "0c4ceda3",
   "metadata": {},
   "outputs": [],
   "source": []
  }
 ],
 "metadata": {
  "kernelspec": {
   "display_name": "Python 3 (ipykernel)",
   "language": "python",
   "name": "python3"
  },
  "language_info": {
   "codemirror_mode": {
    "name": "ipython",
    "version": 3
   },
   "file_extension": ".py",
   "mimetype": "text/x-python",
   "name": "python",
   "nbconvert_exporter": "python",
   "pygments_lexer": "ipython3",
   "version": "3.9.12"
  }
 },
 "nbformat": 4,
 "nbformat_minor": 5
}
