{
 "cells": [
  {
   "cell_type": "markdown",
   "id": "cf01b94a",
   "metadata": {},
   "source": [
    "# DAY 4\n",
    "## Q1) Explore split, strip, replace, center, title methods of string data type in python."
   ]
  },
  {
   "cell_type": "code",
   "execution_count": 18,
   "id": "ba183117",
   "metadata": {},
   "outputs": [
    {
     "name": "stdout",
     "output_type": "stream",
     "text": [
      "Hey I am Arunava\n",
      "['Hey', 'I', 'am', 'Arunava']\n",
      "Hey   I   am     Arunava\n",
      "Hi, Python!\n",
      "-----Nice to learn python-----\n",
      "Nice To Learn Python\n"
     ]
    }
   ],
   "source": [
    "T1=\"Hey I am Arunava\"\n",
    "print(T1)\n",
    "print(T1.split())\n",
    "T2=\"    Hey   I   am     Arunava        \"\n",
    "print(T2.strip())\n",
    "T3= \"Hi, World!\"\n",
    "print(T3.replace(\"World\", \"Python\"))\n",
    "T4 = \"Nice to learn python\"\n",
    "print(T4.center(30, \"-\"))\n",
    "print(T4.title())"
   ]
  },
  {
   "cell_type": "markdown",
   "id": "4f7ba9d3",
   "metadata": {},
   "source": [
    "## Q2) Explore append, pop, remove, sort methods of list data type"
   ]
  },
  {
   "cell_type": "code",
   "execution_count": 20,
   "id": "28a0c914",
   "metadata": {},
   "outputs": [
    {
     "name": "stdout",
     "output_type": "stream",
     "text": [
      "['Arunava', 'Abir', 'Akash', 'Dyutiman']\n",
      "['Arunava', 'Abir', 'Dyutiman']\n",
      "['Arunava', 'Abir']\n",
      "['Abir', 'Arunava']\n"
     ]
    }
   ],
   "source": [
    "names = ['Arunava','Abir','Akash']\n",
    "names.append('Dyutiman')\n",
    "print(names)\n",
    "names.remove('Akash')\n",
    "print(names)\n",
    "names.pop()\n",
    "print(names)\n",
    "names.sort()\n",
    "print(names)"
   ]
  },
  {
   "cell_type": "markdown",
   "id": "d0dd3a18",
   "metadata": {},
   "source": [
    "## Q3)Create 5 real time lists to store some useful information in python eg. Language = [ ‘java’, ‘c’, ‘c++’, ‘ruby’ ] "
   ]
  },
  {
   "cell_type": "code",
   "execution_count": 2,
   "id": "4b0f51fb",
   "metadata": {},
   "outputs": [
    {
     "name": "stdout",
     "output_type": "stream",
     "text": [
      "['C', 'C++', 'Java', 'Ruby']\n",
      "['Bangladesh', 'China', 'India', 'Pakistan']\n",
      "['Apple', 'Banana', 'Coconut', 'Jackfruit']\n",
      "['Black', 'Blue', 'Green', 'Peach']\n",
      "['Bangalore', 'Delhi', 'Kolata', 'Lucknow']\n"
     ]
    }
   ],
   "source": [
    "Language=['Java', 'C', 'C++', 'Ruby']\n",
    "Fruits=['Apple', 'Banana', 'Jackfruit', 'Coconut']\n",
    "Countries=['India', 'Pakistan', 'China', 'Bangladesh']\n",
    "Colours = ['Green', 'Blue', 'Peach','Black']\n",
    "Cities = ['Kolata', 'Delhi', 'Bangalore','Lucknow']\n",
    "Language.sort()\n",
    "print(Language)\n",
    "Countries.sort()\n",
    "print(Countries)\n",
    "Fruits.sort()\n",
    "print(Fruits)\n",
    "Colours.sort()\n",
    "print(Colours)\n",
    "Cities.sort()\n",
    "print(Cities)\n"
   ]
  },
  {
   "cell_type": "markdown",
   "id": "c15c4f29",
   "metadata": {},
   "source": [
    "## Q4) What is difference between mutable and immutable data types in python.\n",
    "### Mutable\n",
    "\n",
    "Mutable data types are those whose values can be changed after they are assigned.\n",
    "You can modify mutable objects directly without creating a new object.\n",
    "Examples of mutable data types in Python include lists (list), dictionaries (dict), and sets (set).\n",
    "\n",
    "Example-"
   ]
  },
  {
   "cell_type": "code",
   "execution_count": 4,
   "id": "4dd12616",
   "metadata": {},
   "outputs": [
    {
     "name": "stdout",
     "output_type": "stream",
     "text": [
      "['1', '2', '3', '4', '5']\n",
      "[1, 2, 3, 4, 5]\n"
     ]
    }
   ],
   "source": [
    "List1=['1', '2', '3', '4']\n",
    "List1.append('5')\n",
    "print(List1)\n",
    "List2=[1,2,3,4]\n",
    "List2.append(5)\n",
    "print(List2)"
   ]
  },
  {
   "cell_type": "markdown",
   "id": "6c651f2f",
   "metadata": {},
   "source": [
    "### Immutable Data Types:\n",
    "Immutable data types cannot be modified after they are created.\n",
    "When an immutable object is modified, a new object is created with the modified value and a different memory location.\n",
    "Examples of immutable data types in Python include strings, numbers (integers, floats), and tuples.\n",
    "Example"
   ]
  },
  {
   "cell_type": "code",
   "execution_count": 6,
   "id": "526ff1fa",
   "metadata": {},
   "outputs": [
    {
     "name": "stdout",
     "output_type": "stream",
     "text": [
      "Hello World\n"
     ]
    }
   ],
   "source": [
    "my_string=\"Hello\"\n",
    "new_my_string=my_string +\" \" \"World\"\n",
    "print(new_my_string)"
   ]
  },
  {
   "cell_type": "markdown",
   "id": "672bd478",
   "metadata": {},
   "source": [
    "The distinction between mutable and immutable data types is important because it affects how these objects behave in terms of assignment, modification, and memory usage. Immutable data types are useful for situations where you want to ensure that the value of an object cannot be changed once it is assigned, while mutable data types allow for flexibility in modifying and updating data structures.\n",
    "\n",
    "## Q5) What are identifiers, list rules of identifiers in python.\n",
    "**Identifiers** in Python are names used to identify variables, functions, classes, modules, or any other user-defined objects. They are used to give a unique name to these entities, making it easier to refer to them in the code.\n",
    "\n",
    "Here are the rules for defining identifiers in Python.\n",
    "\n",
    "Valid Characters\n",
    "Case-Sensitivity\n",
    "Reserved Words\n",
    "Length Limit\n",
    "Naming Convention"
   ]
  },
  {
   "cell_type": "code",
   "execution_count": null,
   "id": "210171f0",
   "metadata": {},
   "outputs": [],
   "source": []
  }
 ],
 "metadata": {
  "kernelspec": {
   "display_name": "Python 3 (ipykernel)",
   "language": "python",
   "name": "python3"
  },
  "language_info": {
   "codemirror_mode": {
    "name": "ipython",
    "version": 3
   },
   "file_extension": ".py",
   "mimetype": "text/x-python",
   "name": "python",
   "nbconvert_exporter": "python",
   "pygments_lexer": "ipython3",
   "version": "3.9.12"
  }
 },
 "nbformat": 4,
 "nbformat_minor": 5
}
